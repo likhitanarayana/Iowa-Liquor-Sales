{
 "cells": [
  {
   "cell_type": "code",
   "execution_count": 1,
   "metadata": {},
   "outputs": [],
   "source": [
    "import pandas as pd\n",
    "import numpy as np\n",
    "import matplotlib.pyplot as plt\n",
    "import re\n",
    "%matplotlib inline"
   ]
  },
  {
   "cell_type": "code",
   "execution_count": 2,
   "metadata": {},
   "outputs": [],
   "source": [
    "sales = pd.read_csv(\"GrossSales.csv\")\n",
    "\n",
    "spellingMapping = {\n",
    "    \"clearlake\": \"clear lake\",\n",
    "    \"dewitt\": \"de witt\",\n",
    "    \"guttenburg\" : \"guttenberg\",\n",
    "    \"grand mounds\": \"grand mound\",\n",
    "    \"jewell\": \"jewell junction\",\n",
    "    \"kellog\": \"kellogg\",\n",
    "    \"ottuwma\": \"ottumwa\",\n",
    "    \"otumwa\": \"ottumwa\",\n",
    "    \"lemars\": \"le mars\",\n",
    "    \"leclaire\": \"le claire\"\n",
    "}   \n",
    "\n",
    "sales['City'] = sales['City'].map(lambda x: x.lower().replace(\"'\", \"\").strip())\n",
    "\n",
    "sales['City'] = sales['City'].map(lambda x: spellingMapping.get(x, x))\n",
    "sales['City'] = sales['City'].map(lambda x: x.replace('mt', 'mount'))\n",
    "sales['City'] = sales['City'].map(lambda x: x.replace('saint', 'st.'))\n",
    "sales['City'] = sales['City'].map(lambda x: re.sub('^ft.', 'fort', x))\n",
    "sales['City'] = sales['City'].map(lambda x: re.sub('^st ', 'st. ', x))"
   ]
  },
  {
   "cell_type": "code",
   "execution_count": 3,
   "metadata": {},
   "outputs": [],
   "source": [
    "census = pd.read_csv(\"CensusData.csv\")\n",
    "census['City'] = census['City'].map(lambda x: x.lower().replace(\"'\", \"\").strip())"
   ]
  },
  {
   "cell_type": "code",
   "execution_count": 4,
   "metadata": {},
   "outputs": [
    {
     "name": "stdout",
     "output_type": "stream",
     "text": [
      "colorado springs\n"
     ]
    }
   ],
   "source": [
    "censusunique = np.unique(census['City'])\n",
    "for city in np.unique(sales['City']):\n",
    "    if city not in censusunique:\n",
    "        print(city)"
   ]
  },
  {
   "cell_type": "markdown",
   "metadata": {},
   "source": [
    "Colorado Springs isn't a city in Iowa. We only lose 1 row by keeping Colorado Springs out, so we'll leave it out. "
   ]
  },
  {
   "cell_type": "code",
   "execution_count": 5,
   "metadata": {},
   "outputs": [
    {
     "data": {
      "text/plain": [
       "121045"
      ]
     },
     "execution_count": 5,
     "metadata": {},
     "output_type": "execute_result"
    }
   ],
   "source": [
    "len(sales.index)"
   ]
  },
  {
   "cell_type": "code",
   "execution_count": 16,
   "metadata": {},
   "outputs": [],
   "source": [
    "merged = sales.merge(census, on='City', how='inner')\n",
    "merged = merged.drop(\"Unnamed: 0\", axis = 1)"
   ]
  },
  {
   "cell_type": "code",
   "execution_count": 20,
   "metadata": {},
   "outputs": [],
   "source": [
    "merged['Volume Per Capita'] = merged['Volume Sold (Liters)'] / merged['Population']\n",
    "merged['Bottles Per Capita'] = merged['Bottles Sold'] / merged['Population']\n",
    "merged['Sales Per Capita'] = merged['Sale (Dollars)'] / merged['Population']"
   ]
  },
  {
   "cell_type": "code",
   "execution_count": 21,
   "metadata": {},
   "outputs": [
    {
     "data": {
      "text/plain": [
       "Index(['City', 'Date', 'Volume Sold (Liters)', 'Bottles Sold',\n",
       "       'Sale (Dollars)', 'Population', 'HousingUnits', 'AreaSQMT',\n",
       "       'DensitySQMP', 'DensitySQMH', 'Volume Per Capita', 'Bottles Per Capita',\n",
       "       'Sales Per Capita'],\n",
       "      dtype='object')"
      ]
     },
     "execution_count": 21,
     "metadata": {},
     "output_type": "execute_result"
    }
   ],
   "source": [
    "merged.columns"
   ]
  },
  {
   "cell_type": "code",
   "execution_count": 22,
   "metadata": {},
   "outputs": [
    {
     "data": {
      "text/html": [
       "<div>\n",
       "<table border=\"1\" class=\"dataframe\">\n",
       "  <thead>\n",
       "    <tr style=\"text-align: right;\">\n",
       "      <th></th>\n",
       "      <th>City</th>\n",
       "      <th>Date</th>\n",
       "      <th>Volume Sold (Liters)</th>\n",
       "      <th>Bottles Sold</th>\n",
       "      <th>Sale (Dollars)</th>\n",
       "      <th>Population</th>\n",
       "      <th>HousingUnits</th>\n",
       "      <th>AreaSQMT</th>\n",
       "      <th>DensitySQMP</th>\n",
       "      <th>DensitySQMH</th>\n",
       "      <th>Volume Per Capita</th>\n",
       "      <th>Bottles Per Capita</th>\n",
       "      <th>Sales Per Capita</th>\n",
       "    </tr>\n",
       "  </thead>\n",
       "  <tbody>\n",
       "    <tr>\n",
       "      <th>0</th>\n",
       "      <td>ackley</td>\n",
       "      <td>01/04/2016</td>\n",
       "      <td>114.00</td>\n",
       "      <td>118</td>\n",
       "      <td>1858.58</td>\n",
       "      <td>1589</td>\n",
       "      <td>789</td>\n",
       "      <td>2.48</td>\n",
       "      <td>648.6</td>\n",
       "      <td>322.0</td>\n",
       "      <td>0.071743</td>\n",
       "      <td>0.074261</td>\n",
       "      <td>1.169654</td>\n",
       "    </tr>\n",
       "    <tr>\n",
       "      <th>1</th>\n",
       "      <td>ackley</td>\n",
       "      <td>01/05/2015</td>\n",
       "      <td>163.99</td>\n",
       "      <td>158</td>\n",
       "      <td>1953.04</td>\n",
       "      <td>1589</td>\n",
       "      <td>789</td>\n",
       "      <td>2.48</td>\n",
       "      <td>648.6</td>\n",
       "      <td>322.0</td>\n",
       "      <td>0.103203</td>\n",
       "      <td>0.099434</td>\n",
       "      <td>1.229100</td>\n",
       "    </tr>\n",
       "    <tr>\n",
       "      <th>2</th>\n",
       "      <td>ackley</td>\n",
       "      <td>01/06/2014</td>\n",
       "      <td>146.50</td>\n",
       "      <td>126</td>\n",
       "      <td>1260.57</td>\n",
       "      <td>1589</td>\n",
       "      <td>789</td>\n",
       "      <td>2.48</td>\n",
       "      <td>648.6</td>\n",
       "      <td>322.0</td>\n",
       "      <td>0.092196</td>\n",
       "      <td>0.079295</td>\n",
       "      <td>0.793310</td>\n",
       "    </tr>\n",
       "    <tr>\n",
       "      <th>3</th>\n",
       "      <td>ackley</td>\n",
       "      <td>01/07/2013</td>\n",
       "      <td>98.75</td>\n",
       "      <td>96</td>\n",
       "      <td>955.93</td>\n",
       "      <td>1589</td>\n",
       "      <td>789</td>\n",
       "      <td>2.48</td>\n",
       "      <td>648.6</td>\n",
       "      <td>322.0</td>\n",
       "      <td>0.062146</td>\n",
       "      <td>0.060415</td>\n",
       "      <td>0.601592</td>\n",
       "    </tr>\n",
       "    <tr>\n",
       "      <th>4</th>\n",
       "      <td>ackley</td>\n",
       "      <td>01/08/2013</td>\n",
       "      <td>61.50</td>\n",
       "      <td>72</td>\n",
       "      <td>686.59</td>\n",
       "      <td>1589</td>\n",
       "      <td>789</td>\n",
       "      <td>2.48</td>\n",
       "      <td>648.6</td>\n",
       "      <td>322.0</td>\n",
       "      <td>0.038704</td>\n",
       "      <td>0.045312</td>\n",
       "      <td>0.432089</td>\n",
       "    </tr>\n",
       "  </tbody>\n",
       "</table>\n",
       "</div>"
      ],
      "text/plain": [
       "     City        Date  Volume Sold (Liters)  Bottles Sold  Sale (Dollars)  \\\n",
       "0  ackley  01/04/2016                114.00           118         1858.58   \n",
       "1  ackley  01/05/2015                163.99           158         1953.04   \n",
       "2  ackley  01/06/2014                146.50           126         1260.57   \n",
       "3  ackley  01/07/2013                 98.75            96          955.93   \n",
       "4  ackley  01/08/2013                 61.50            72          686.59   \n",
       "\n",
       "   Population  HousingUnits  AreaSQMT  DensitySQMP  DensitySQMH  \\\n",
       "0        1589           789      2.48        648.6        322.0   \n",
       "1        1589           789      2.48        648.6        322.0   \n",
       "2        1589           789      2.48        648.6        322.0   \n",
       "3        1589           789      2.48        648.6        322.0   \n",
       "4        1589           789      2.48        648.6        322.0   \n",
       "\n",
       "   Volume Per Capita  Bottles Per Capita  Sales Per Capita  \n",
       "0           0.071743            0.074261          1.169654  \n",
       "1           0.103203            0.099434          1.229100  \n",
       "2           0.092196            0.079295          0.793310  \n",
       "3           0.062146            0.060415          0.601592  \n",
       "4           0.038704            0.045312          0.432089  "
      ]
     },
     "execution_count": 22,
     "metadata": {},
     "output_type": "execute_result"
    }
   ],
   "source": [
    "merged.head()"
   ]
  },
  {
   "cell_type": "code",
   "execution_count": null,
   "metadata": {},
   "outputs": [],
   "source": []
  }
 ],
 "metadata": {
  "kernelspec": {
   "display_name": "Python 3",
   "language": "python",
   "name": "python3"
  },
  "language_info": {
   "codemirror_mode": {
    "name": "ipython",
    "version": 3
   },
   "file_extension": ".py",
   "mimetype": "text/x-python",
   "name": "python",
   "nbconvert_exporter": "python",
   "pygments_lexer": "ipython3",
   "version": "3.6.5"
  }
 },
 "nbformat": 4,
 "nbformat_minor": 2
}
