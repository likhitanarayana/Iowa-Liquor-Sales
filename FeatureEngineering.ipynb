{
 "cells": [
  {
   "cell_type": "code",
   "execution_count": 1,
   "metadata": {},
   "outputs": [],
   "source": [
    "import pandas as pd\n",
    "import numpy as np\n",
    "import matplotlib.pyplot as plt\n",
    "import re\n",
    "%matplotlib inline"
   ]
  },
  {
   "cell_type": "code",
   "execution_count": 2,
   "metadata": {},
   "outputs": [],
   "source": [
    "sales = pd.read_csv(\"GrossSales.csv\")\n",
    "\n",
    "spellingMapping = {\n",
    "    \"clearlake\": \"clear lake\",\n",
    "    \"dewitt\": \"de witt\",\n",
    "    \"guttenburg\" : \"guttenberg\",\n",
    "    \"grand mounds\": \"grand mound\",\n",
    "    \"jewell\": \"jewell junction\",\n",
    "    \"kellog\": \"kellogg\",\n",
    "    \"ottuwma\": \"ottumwa\",\n",
    "    \"otumwa\": \"ottumwa\",\n",
    "    \"lemars\": \"le mars\",\n",
    "    \"leclaire\": \"le claire\"\n",
    "}   \n",
    "\n",
    "sales['City'] = sales['City'].map(lambda x: x.lower().replace(\"'\", \"\").strip())\n",
    "\n",
    "sales['City'] = sales['City'].map(lambda x: spellingMapping.get(x, x))\n",
    "sales['City'] = sales['City'].map(lambda x: x.replace('mt', 'mount'))\n",
    "sales['City'] = sales['City'].map(lambda x: x.replace('saint', 'st.'))\n",
    "sales['City'] = sales['City'].map(lambda x: re.sub('^ft.', 'fort', x))\n",
    "sales['City'] = sales['City'].map(lambda x: re.sub('^st ', 'st. ', x))"
   ]
  },
  {
   "cell_type": "code",
   "execution_count": 3,
   "metadata": {},
   "outputs": [],
   "source": [
    "census = pd.read_csv(\"CensusData.csv\")\n",
    "census['City'] = census['City'].map(lambda x: x.lower().replace(\"'\", \"\").strip())"
   ]
  },
  {
   "cell_type": "code",
   "execution_count": 4,
   "metadata": {},
   "outputs": [
    {
     "name": "stdout",
     "output_type": "stream",
     "text": [
      "colorado springs\n"
     ]
    }
   ],
   "source": [
    "censusunique = np.unique(census['City'])\n",
    "for city in np.unique(sales['City']):\n",
    "    if city not in censusunique:\n",
    "        print(city)"
   ]
  },
  {
   "cell_type": "markdown",
   "metadata": {},
   "source": [
    "Colorado Springs isn't a city in Iowa. We only lose 1 row by keeping Colorado Springs out, so we'll leave it out. "
   ]
  },
  {
   "cell_type": "code",
   "execution_count": 5,
   "metadata": {},
   "outputs": [
    {
     "data": {
      "text/plain": [
       "121045"
      ]
     },
     "execution_count": 5,
     "metadata": {},
     "output_type": "execute_result"
    }
   ],
   "source": [
    "len(sales.index)"
   ]
  },
  {
   "cell_type": "code",
   "execution_count": 6,
   "metadata": {},
   "outputs": [],
   "source": [
    "merged = sales.merge(census, on='City', how='inner')"
   ]
  },
  {
   "cell_type": "code",
   "execution_count": 7,
   "metadata": {},
   "outputs": [
    {
     "data": {
      "text/plain": [
       "121044"
      ]
     },
     "execution_count": 7,
     "metadata": {},
     "output_type": "execute_result"
    }
   ],
   "source": [
    "len(merged.index)"
   ]
  },
  {
   "cell_type": "code",
   "execution_count": 8,
   "metadata": {},
   "outputs": [
    {
     "data": {
      "text/html": [
       "<div>\n",
       "<table border=\"1\" class=\"dataframe\">\n",
       "  <thead>\n",
       "    <tr style=\"text-align: right;\">\n",
       "      <th></th>\n",
       "      <th>City</th>\n",
       "      <th>Date</th>\n",
       "      <th>Volume Sold (Liters)</th>\n",
       "      <th>Bottles Sold</th>\n",
       "      <th>Sale (Dollars)</th>\n",
       "      <th>Unnamed: 0</th>\n",
       "      <th>Population</th>\n",
       "      <th>HousingUnits</th>\n",
       "      <th>AreaSQMT</th>\n",
       "      <th>DensitySQMP</th>\n",
       "      <th>DensitySQMH</th>\n",
       "    </tr>\n",
       "  </thead>\n",
       "  <tbody>\n",
       "    <tr>\n",
       "      <th>0</th>\n",
       "      <td>ackley</td>\n",
       "      <td>01/04/2016</td>\n",
       "      <td>114.00</td>\n",
       "      <td>118</td>\n",
       "      <td>1858.58</td>\n",
       "      <td>1</td>\n",
       "      <td>1589</td>\n",
       "      <td>789</td>\n",
       "      <td>2.48</td>\n",
       "      <td>648.6</td>\n",
       "      <td>322.0</td>\n",
       "    </tr>\n",
       "    <tr>\n",
       "      <th>1</th>\n",
       "      <td>ackley</td>\n",
       "      <td>01/05/2015</td>\n",
       "      <td>163.99</td>\n",
       "      <td>158</td>\n",
       "      <td>1953.04</td>\n",
       "      <td>1</td>\n",
       "      <td>1589</td>\n",
       "      <td>789</td>\n",
       "      <td>2.48</td>\n",
       "      <td>648.6</td>\n",
       "      <td>322.0</td>\n",
       "    </tr>\n",
       "    <tr>\n",
       "      <th>2</th>\n",
       "      <td>ackley</td>\n",
       "      <td>01/06/2014</td>\n",
       "      <td>146.50</td>\n",
       "      <td>126</td>\n",
       "      <td>1260.57</td>\n",
       "      <td>1</td>\n",
       "      <td>1589</td>\n",
       "      <td>789</td>\n",
       "      <td>2.48</td>\n",
       "      <td>648.6</td>\n",
       "      <td>322.0</td>\n",
       "    </tr>\n",
       "    <tr>\n",
       "      <th>3</th>\n",
       "      <td>ackley</td>\n",
       "      <td>01/07/2013</td>\n",
       "      <td>98.75</td>\n",
       "      <td>96</td>\n",
       "      <td>955.93</td>\n",
       "      <td>1</td>\n",
       "      <td>1589</td>\n",
       "      <td>789</td>\n",
       "      <td>2.48</td>\n",
       "      <td>648.6</td>\n",
       "      <td>322.0</td>\n",
       "    </tr>\n",
       "    <tr>\n",
       "      <th>4</th>\n",
       "      <td>ackley</td>\n",
       "      <td>01/08/2013</td>\n",
       "      <td>61.50</td>\n",
       "      <td>72</td>\n",
       "      <td>686.59</td>\n",
       "      <td>1</td>\n",
       "      <td>1589</td>\n",
       "      <td>789</td>\n",
       "      <td>2.48</td>\n",
       "      <td>648.6</td>\n",
       "      <td>322.0</td>\n",
       "    </tr>\n",
       "  </tbody>\n",
       "</table>\n",
       "</div>"
      ],
      "text/plain": [
       "     City        Date  Volume Sold (Liters)  Bottles Sold  Sale (Dollars)  \\\n",
       "0  ackley  01/04/2016                114.00           118         1858.58   \n",
       "1  ackley  01/05/2015                163.99           158         1953.04   \n",
       "2  ackley  01/06/2014                146.50           126         1260.57   \n",
       "3  ackley  01/07/2013                 98.75            96          955.93   \n",
       "4  ackley  01/08/2013                 61.50            72          686.59   \n",
       "\n",
       "   Unnamed: 0  Population  HousingUnits  AreaSQMT  DensitySQMP  DensitySQMH  \n",
       "0           1        1589           789      2.48        648.6        322.0  \n",
       "1           1        1589           789      2.48        648.6        322.0  \n",
       "2           1        1589           789      2.48        648.6        322.0  \n",
       "3           1        1589           789      2.48        648.6        322.0  \n",
       "4           1        1589           789      2.48        648.6        322.0  "
      ]
     },
     "execution_count": 8,
     "metadata": {},
     "output_type": "execute_result"
    }
   ],
   "source": [
    "merged.head()"
   ]
  },
  {
   "cell_type": "code",
   "execution_count": null,
   "metadata": {},
   "outputs": [],
   "source": []
  }
 ],
 "metadata": {
  "kernelspec": {
   "display_name": "Python 3",
   "language": "python",
   "name": "python3"
  },
  "language_info": {
   "codemirror_mode": {
    "name": "ipython",
    "version": 3
   },
   "file_extension": ".py",
   "mimetype": "text/x-python",
   "name": "python",
   "nbconvert_exporter": "python",
   "pygments_lexer": "ipython3",
   "version": "3.6.5"
  }
 },
 "nbformat": 4,
 "nbformat_minor": 2
}
