{
 "cells": [
  {
   "cell_type": "code",
   "execution_count": 1,
   "metadata": {
    "colab": {
     "base_uri": "https://localhost:8080/",
     "height": 68
    },
    "colab_type": "code",
    "id": "yrBVg004ieo1",
    "outputId": "f5f9b0f0-e9c4-4f5c-8910-c5d8e803073f"
   },
   "outputs": [
    {
     "name": "stdout",
     "output_type": "stream",
     "text": [
      "Requirement already satisfied: holidays in /opt/conda/lib/python3.6/site-packages\n",
      "Requirement already satisfied: python-dateutil in /opt/conda/lib/python3.6/site-packages (from holidays)\n",
      "Requirement already satisfied: six in /opt/conda/lib/python3.6/site-packages (from holidays)\n",
      "\u001b[33mYou are using pip version 9.0.1, however version 18.1 is available.\n",
      "You should consider upgrading via the 'pip install --upgrade pip' command.\u001b[0m\n"
     ]
    }
   ],
   "source": [
    "import pandas as pd\n",
    "import numpy as np\n",
    "import matplotlib.pyplot as plt\n",
    "import re\n",
    "!pip install holidays\n",
    "import holidays\n",
    "%matplotlib inline"
   ]
  },
  {
   "cell_type": "code",
   "execution_count": 2,
   "metadata": {
    "colab": {
     "base_uri": "https://localhost:8080/",
     "height": 122
    },
    "colab_type": "code",
    "id": "nVnWUH5llnaJ",
    "outputId": "e70f63ef-d8a2-4a33-bbe1-b220f3c4fcfa"
   },
   "outputs": [],
   "source": [
    "#from google.colab import drive\n",
    "#drive.mount('/content/gdrive')\n",
    "sales = pd.read_csv('GrossSalesDay.csv')"
   ]
  },
  {
   "cell_type": "code",
   "execution_count": 3,
   "metadata": {
    "colab": {},
    "colab_type": "code",
    "id": "Mz-pvGMhieo4"
   },
   "outputs": [],
   "source": [
    "#from google.colab import drive\n",
    "#drive.mount('/My Drive/College/DATA 401')\n",
    "#sales = pd.read_csv('/My Drive/College/DATA 401/Iowa-Liquor-Sales/GrossSalesDays.csv')\n",
    "\n",
    "spellingMapping = {\n",
    "    \"clearlake\": \"clear lake\",\n",
    "    \"dewitt\": \"de witt\",\n",
    "    \"guttenburg\" : \"guttenberg\",\n",
    "    \"grand mounds\": \"grand mound\",\n",
    "    \"jewell\": \"jewell junction\",\n",
    "    \"kellog\": \"kellogg\",\n",
    "    \"ottuwma\": \"ottumwa\",\n",
    "    \"otumwa\": \"ottumwa\",\n",
    "    \"lemars\": \"le mars\",\n",
    "    \"leclaire\": \"le claire\"\n",
    "}   \n",
    "\n",
    "sales['City'] = sales['City'].map(lambda x: x.lower().replace(\"'\", \"\").strip())\n",
    "\n",
    "sales['City'] = sales['City'].map(lambda x: spellingMapping.get(x, x))\n",
    "sales['City'] = sales['City'].map(lambda x: x.replace('mt', 'mount'))\n",
    "sales['City'] = sales['City'].map(lambda x: x.replace('saint', 'st.'))\n",
    "sales['City'] = sales['City'].map(lambda x: re.sub('^ft.', 'fort', x))\n",
    "sales['City'] = sales['City'].map(lambda x: re.sub('^st ', 'st. ', x))"
   ]
  },
  {
   "cell_type": "code",
   "execution_count": 4,
   "metadata": {
    "colab": {},
    "colab_type": "code",
    "id": "Xeysnd2lieo6"
   },
   "outputs": [],
   "source": [
    "census = pd.read_csv(\"CensusData.csv\")\n",
    "census['City'] = census['City'].map(lambda x: x.lower().replace(\"'\", \"\").strip())"
   ]
  },
  {
   "cell_type": "code",
   "execution_count": 5,
   "metadata": {
    "colab": {
     "base_uri": "https://localhost:8080/",
     "height": 34
    },
    "colab_type": "code",
    "id": "8lJP5rJeieo8",
    "outputId": "6dec7817-7273-4d7c-df8b-c21f63132030"
   },
   "outputs": [
    {
     "name": "stdout",
     "output_type": "stream",
     "text": [
      "colorado springs\n"
     ]
    }
   ],
   "source": [
    "censusunique = np.unique(census['City'])\n",
    "for city in np.unique(sales['City']):\n",
    "    if city not in censusunique:\n",
    "        print(city)"
   ]
  },
  {
   "cell_type": "markdown",
   "metadata": {
    "colab_type": "text",
    "id": "3JXSHeLPiepA"
   },
   "source": [
    "Colorado Springs isn't a city in Iowa. We only lose 1 row by keeping Colorado Springs out, so we'll leave it out. "
   ]
  },
  {
   "cell_type": "code",
   "execution_count": 6,
   "metadata": {
    "colab": {
     "base_uri": "https://localhost:8080/",
     "height": 34
    },
    "colab_type": "code",
    "id": "JBwCQTT9iepB",
    "outputId": "712797fd-84e6-46ce-f12d-f28482985fbc"
   },
   "outputs": [
    {
     "data": {
      "text/plain": [
       "121045"
      ]
     },
     "execution_count": 6,
     "metadata": {},
     "output_type": "execute_result"
    }
   ],
   "source": [
    "len(sales.index)"
   ]
  },
  {
   "cell_type": "code",
   "execution_count": 7,
   "metadata": {
    "colab": {},
    "colab_type": "code",
    "id": "I5Zn1rvaiepE"
   },
   "outputs": [],
   "source": [
    "merged = sales.merge(census, on='City', how='inner')\n",
    "merged = merged.drop(\"Unnamed: 0\", axis = 1)"
   ]
  },
  {
   "cell_type": "code",
   "execution_count": 8,
   "metadata": {
    "colab": {},
    "colab_type": "code",
    "id": "FXj1W40biepG"
   },
   "outputs": [],
   "source": [
    "merged['Volume Per Capita'] = merged['Volume Sold (Liters)'] / merged['Population']\n",
    "merged['Bottles Per Capita'] = merged['Bottles Sold'] / merged['Population']\n",
    "merged['Sales Per Capita'] = merged['Sale (Dollars)'] / merged['Population']"
   ]
  },
  {
   "cell_type": "code",
   "execution_count": 9,
   "metadata": {
    "colab": {
     "base_uri": "https://localhost:8080/",
     "height": 34
    },
    "colab_type": "code",
    "id": "mSoxQnrpiepJ",
    "outputId": "e08e5e1f-df96-4504-e769-451fc9ed195b"
   },
   "outputs": [
    {
     "data": {
      "text/plain": [
       "23"
      ]
     },
     "execution_count": 9,
     "metadata": {},
     "output_type": "execute_result"
    }
   ],
   "source": [
    "len(merged.columns)"
   ]
  },
  {
   "cell_type": "code",
   "execution_count": 10,
   "metadata": {},
   "outputs": [
    {
     "data": {
      "text/plain": [
       "<matplotlib.axes._subplots.AxesSubplot at 0x7fda6caaf2e8>"
      ]
     },
     "execution_count": 10,
     "metadata": {},
     "output_type": "execute_result"
    },
    {
     "data": {
      "image/png": "[encoded data removed]",
      "text/plain": [
       "<Figure size 432x288 with 1 Axes>"
      ]
     },
     "metadata": {},
     "output_type": "display_data"
    }
   ],
   "source": [
    "merged.groupby('City')['Volume Per Capita'].mean().hist()"
   ]
  },
  {
   "cell_type": "code",
   "execution_count": 11,
   "metadata": {},
   "outputs": [
    {
     "data": {
      "text/plain": [
       "<matplotlib.axes._subplots.AxesSubplot at 0x7fda6c637518>"
      ]
     },
     "execution_count": 11,
     "metadata": {},
     "output_type": "execute_result"
    },
    {
     "data": {
      "image/png": "[encoded data removed]",
      "text/plain": [
       "<Figure size 432x288 with 1 Axes>"
      ]
     },
     "metadata": {},
     "output_type": "display_data"
    }
   ],
   "source": [
    "merged.groupby('City')['Volume Per Capita'].mean().sort_values(\n",
    "    ascending = False)[20:].hist()"
   ]
  },
  {
   "cell_type": "code",
   "execution_count": 12,
   "metadata": {
    "colab": {
     "base_uri": "https://localhost:8080/",
     "height": 287
    },
    "colab_type": "code",
    "id": "ev3YolztiepL",
    "outputId": "5191076e-9030-48bc-e7a5-059e07e40774"
   },
   "outputs": [
    {
     "data": {
      "text/html": [
       "<div>\n",
       "<table border=\"1\" class=\"dataframe\">\n",
       "  <thead>\n",
       "    <tr style=\"text-align: right;\">\n",
       "      <th></th>\n",
       "      <th>Volume Per Capita</th>\n",
       "      <th>Population</th>\n",
       "    </tr>\n",
       "    <tr>\n",
       "      <th>City</th>\n",
       "      <th></th>\n",
       "      <th></th>\n",
       "    </tr>\n",
       "  </thead>\n",
       "  <tbody>\n",
       "    <tr>\n",
       "      <th>delaware</th>\n",
       "      <td>2.961115</td>\n",
       "      <td>159</td>\n",
       "    </tr>\n",
       "    <tr>\n",
       "      <th>bevington</th>\n",
       "      <td>1.685909</td>\n",
       "      <td>63</td>\n",
       "    </tr>\n",
       "    <tr>\n",
       "      <th>zwingle</th>\n",
       "      <td>1.425056</td>\n",
       "      <td>91</td>\n",
       "    </tr>\n",
       "    <tr>\n",
       "      <th>baldwin</th>\n",
       "      <td>0.996972</td>\n",
       "      <td>109</td>\n",
       "    </tr>\n",
       "    <tr>\n",
       "      <th>chester</th>\n",
       "      <td>0.917717</td>\n",
       "      <td>127</td>\n",
       "    </tr>\n",
       "    <tr>\n",
       "      <th>correctionville</th>\n",
       "      <td>0.845457</td>\n",
       "      <td>821</td>\n",
       "    </tr>\n",
       "    <tr>\n",
       "      <th>st. lucas</th>\n",
       "      <td>0.813424</td>\n",
       "      <td>143</td>\n",
       "    </tr>\n",
       "    <tr>\n",
       "      <th>wesley</th>\n",
       "      <td>0.762030</td>\n",
       "      <td>390</td>\n",
       "    </tr>\n",
       "    <tr>\n",
       "      <th>floyd</th>\n",
       "      <td>0.714152</td>\n",
       "      <td>335</td>\n",
       "    </tr>\n",
       "    <tr>\n",
       "      <th>spirit lake</th>\n",
       "      <td>0.626624</td>\n",
       "      <td>4840</td>\n",
       "    </tr>\n",
       "    <tr>\n",
       "      <th>milford</th>\n",
       "      <td>0.549910</td>\n",
       "      <td>2898</td>\n",
       "    </tr>\n",
       "    <tr>\n",
       "      <th>bancroft</th>\n",
       "      <td>0.547320</td>\n",
       "      <td>732</td>\n",
       "    </tr>\n",
       "    <tr>\n",
       "      <th>kalona</th>\n",
       "      <td>0.546551</td>\n",
       "      <td>2363</td>\n",
       "    </tr>\n",
       "    <tr>\n",
       "      <th>arnolds park</th>\n",
       "      <td>0.510210</td>\n",
       "      <td>1126</td>\n",
       "    </tr>\n",
       "    <tr>\n",
       "      <th>stanwood</th>\n",
       "      <td>0.480511</td>\n",
       "      <td>684</td>\n",
       "    </tr>\n",
       "    <tr>\n",
       "      <th>windsor heights</th>\n",
       "      <td>0.447581</td>\n",
       "      <td>4860</td>\n",
       "    </tr>\n",
       "    <tr>\n",
       "      <th>templeton</th>\n",
       "      <td>0.442598</td>\n",
       "      <td>362</td>\n",
       "    </tr>\n",
       "    <tr>\n",
       "      <th>new hartford</th>\n",
       "      <td>0.426124</td>\n",
       "      <td>516</td>\n",
       "    </tr>\n",
       "    <tr>\n",
       "      <th>fort atkinson</th>\n",
       "      <td>0.412446</td>\n",
       "      <td>349</td>\n",
       "    </tr>\n",
       "    <tr>\n",
       "      <th>marquette</th>\n",
       "      <td>0.409093</td>\n",
       "      <td>375</td>\n",
       "    </tr>\n",
       "  </tbody>\n",
       "</table>\n",
       "</div>"
      ],
      "text/plain": [
       "                 Volume Per Capita  Population\n",
       "City                                          \n",
       "delaware                  2.961115         159\n",
       "bevington                 1.685909          63\n",
       "zwingle                   1.425056          91\n",
       "baldwin                   0.996972         109\n",
       "chester                   0.917717         127\n",
       "correctionville           0.845457         821\n",
       "st. lucas                 0.813424         143\n",
       "wesley                    0.762030         390\n",
       "floyd                     0.714152         335\n",
       "spirit lake               0.626624        4840\n",
       "milford                   0.549910        2898\n",
       "bancroft                  0.547320         732\n",
       "kalona                    0.546551        2363\n",
       "arnolds park              0.510210        1126\n",
       "stanwood                  0.480511         684\n",
       "windsor heights           0.447581        4860\n",
       "templeton                 0.442598         362\n",
       "new hartford              0.426124         516\n",
       "fort atkinson             0.412446         349\n",
       "marquette                 0.409093         375"
      ]
     },
     "execution_count": 12,
     "metadata": {},
     "output_type": "execute_result"
    }
   ],
   "source": [
    "merged.groupby('City')[['Volume Per Capita', 'Population']].mean().sort_values(ascending = False\n",
    "                                                                              ,by = 'Volume Per Capita')[:20]"
   ]
  },
  {
   "cell_type": "code",
   "execution_count": 87,
   "metadata": {},
   "outputs": [
    {
     "data": {
      "text/plain": [
       "<matplotlib.axes._subplots.AxesSubplot at 0x7fda43bfe5f8>"
      ]
     },
     "execution_count": 87,
     "metadata": {},
     "output_type": "execute_result"
    },
    {
     "data": {
      "image/png": "[encoded data removed]",
      "text/plain": [
       "<Figure size 432x288 with 1 Axes>"
      ]
     },
     "metadata": {},
     "output_type": "display_data"
    }
   ],
   "source": [
    "correct = merged.groupby('City')[['Volume Per Capita', 'Population']].agg({\n",
    "    'Volume Per Capita': 'sum',\n",
    "    'Population': 'mean'\n",
    "})\n",
    "correct.plot(x = 'Population',\n",
    "                                                                       y= 'Volume Per Capita',\n",
    "                                                                       kind = 'scatter')"
   ]
  },
  {
   "cell_type": "code",
   "execution_count": 94,
   "metadata": {},
   "outputs": [
    {
     "data": {
      "text/plain": [
       "32043    01/25/2016\n",
       "32044    04/18/2016\n",
       "32045    08/17/2015\n",
       "32046    10/05/2015\n",
       "32047    11/02/2015\n",
       "32048    12/14/2015\n",
       "32049    01/09/2017\n",
       "32050    01/22/2018\n",
       "32051    03/19/2018\n",
       "32052    04/10/2017\n",
       "32053    04/23/2018\n",
       "32054    05/21/2018\n",
       "32055    05/22/2017\n",
       "32056    06/13/2016\n",
       "32057    07/03/2017\n",
       "32058    07/09/2018\n",
       "32059    08/01/2016\n",
       "32060    09/10/2018\n",
       "32061    09/11/2017\n",
       "32062    10/03/2016\n",
       "32063    11/07/2016\n",
       "32064    11/20/2017\n",
       "Name: Date, dtype: object"
      ]
     },
     "execution_count": 94,
     "metadata": {},
     "output_type": "execute_result"
    }
   ],
   "source": [
    "merged[merged.City == \"delaware\"].Date"
   ]
  },
  {
   "cell_type": "markdown",
   "metadata": {},
   "source": [
    "It appears that having a higher population is correlated with a lower volume per capita of alchohol"
   ]
  },
  {
   "cell_type": "code",
   "execution_count": 14,
   "metadata": {},
   "outputs": [
    {
     "data": {
      "text/plain": [
       "<matplotlib.axes._subplots.AxesSubplot at 0x7fda6c539eb8>"
      ]
     },
     "execution_count": 14,
     "metadata": {},
     "output_type": "execute_result"
    },
    {
     "data": {
      "image/png": "[encoded data removed]",
      "text/plain": [
       "<Figure size 432x288 with 1 Axes>"
      ]
     },
     "metadata": {},
     "output_type": "display_data"
    }
   ],
   "source": [
    "merged.groupby('City')[['Volume Per Capita', 'Population']].mean().sort_values(\n",
    "ascending = False,\n",
    "    by = 'Population'\n",
    ")[40:].plot(x = 'Population',\n",
    "                                                                       y= 'Volume Per Capita',\n",
    "                                                                       kind = 'scatter')"
   ]
  },
  {
   "cell_type": "code",
   "execution_count": 48,
   "metadata": {},
   "outputs": [],
   "source": [
    "# volByCity = merged.groupby('City')[['Volume Per Capita', 'Population']].mean().sort_values(ascending = False\n",
    "#                                                                               ,by = 'Volume Per Capita')\n",
    "\n",
    "\n",
    "#smallTowns\n",
    "volByCity= merged.groupby('City')[['Volume Per Capita', 'Population']].mean().sort_values(\n",
    "ascending = False,\n",
    "    by = 'Population'\n",
    ")[40:]"
   ]
  },
  {
   "cell_type": "code",
   "execution_count": 55,
   "metadata": {},
   "outputs": [],
   "source": [
    "chunkSize = 200\n",
    "volByCity['roundPop'] = volByCity.Population.map(lambda x: int(x / chunkSize) * chunkSize)"
   ]
  },
  {
   "cell_type": "code",
   "execution_count": 58,
   "metadata": {},
   "outputs": [],
   "source": [
    "volByCityPop = volByCity.groupby('roundPop').mean()['Volume Per Capita']\n",
    "xvals = list(range(0, max(volByCityPop.index) + chunkSize, chunkSize))\n",
    "yvals = []\n",
    "for x in xvals:\n",
    "    try:\n",
    "        yvals.append(volByCityPop[x])\n",
    "    except:\n",
    "        yvals.append(0)"
   ]
  },
  {
   "cell_type": "code",
   "execution_count": 59,
   "metadata": {},
   "outputs": [
    {
     "data": {
      "image/png": "[encoded data removed]",
      "text/plain": [
       "<Figure size 432x288 with 1 Axes>"
      ]
     },
     "metadata": {},
     "output_type": "display_data"
    }
   ],
   "source": [
    "plt.bar([str(x) for x in xvals], yvals, orientation = 'vertical')\n",
    "plt.xlabel('Population')\n",
    "_ = plt.xticks(rotation = 90)"
   ]
  },
  {
   "cell_type": "code",
   "execution_count": null,
   "metadata": {},
   "outputs": [],
   "source": []
  },
  {
   "cell_type": "markdown",
   "metadata": {},
   "source": [
    "Looks like small towns drink a lot (probably because there's not much to do)"
   ]
  },
  {
   "cell_type": "code",
   "execution_count": 52,
   "metadata": {},
   "outputs": [
    {
     "data": {
      "text/plain": [
       "Volume Per Capita       0.145418\n",
       "Population           2180.107558\n",
       "roundPop             1984.883721\n",
       "dtype: float64"
      ]
     },
     "execution_count": 52,
     "metadata": {},
     "output_type": "execute_result"
    }
   ],
   "source": [
    "volByCity[volByCity['Population'] > 500].mean()"
   ]
  },
  {
   "cell_type": "code",
   "execution_count": 53,
   "metadata": {},
   "outputs": [
    {
     "data": {
      "text/plain": [
       "Volume Per Capita      0.515995\n",
       "Population           344.500000\n",
       "roundPop             176.470588\n",
       "dtype: float64"
      ]
     },
     "execution_count": 53,
     "metadata": {},
     "output_type": "execute_result"
    }
   ],
   "source": [
    "volByCity[volByCity['Population'] < 500].mean()"
   ]
  },
  {
   "cell_type": "code",
   "execution_count": 54,
   "metadata": {
    "colab": {
     "base_uri": "https://localhost:8080/",
     "height": 34
    },
    "colab_type": "code",
    "id": "AmYukB2siepO",
    "outputId": "91a73c82-577f-4965-8361-07bfafb32b3a"
   },
   "outputs": [
    {
     "data": {
      "text/plain": [
       "418"
      ]
     },
     "execution_count": 54,
     "metadata": {},
     "output_type": "execute_result"
    }
   ],
   "source": [
    "len(merged.City.unique())"
   ]
  },
  {
   "cell_type": "code",
   "execution_count": 15,
   "metadata": {
    "colab": {},
    "colab_type": "code",
    "id": "wDB4ShRUiepQ"
   },
   "outputs": [],
   "source": [
    "one_hot_city = pd.get_dummies(merged.City)\n",
    "merged = pd.merge(merged, one_hot_city, left_index=True, right_index=True)\n",
    "\n",
    "\n",
    "merged.Date = pd.to_datetime(merged.Date, infer_datetime_format=True)\n",
    "# The day of the week with Monday=0, Sunday=6\n",
    "merged['Dayofweek'] = merged.Date.dt.dayofweek\n",
    "# The week ordinal of the year\n",
    "merged['Week'] = merged.Date.dt.weekofyear\n",
    "merged['Month'] = merged.Date.dt.month\n",
    "\n",
    "#print(\"merged.Date = {} and type = {}\".format(merged.Date, type(merged.Date)))\n",
    "us_holidays = holidays.UnitedStates()\n",
    "merged['Holiday'] = merged.apply(lambda x: x['Date'] in us_holidays, axis =1)"
   ]
  },
  {
   "cell_type": "code",
   "execution_count": 38,
   "metadata": {
    "colab": {
     "base_uri": "https://localhost:8080/",
     "height": 338
    },
    "colab_type": "code",
    "id": "2_N6SKEAiepU",
    "outputId": "efa4fd3f-4f5e-455f-d823-e21c4a4e0435"
   },
   "outputs": [
    {
     "data": {
      "text/html": [
       "<div>\n",
       "<style scoped>\n",
       "    .dataframe tbody tr th:only-of-type {\n",
       "        vertical-align: middle;\n",
       "    }\n",
       "\n",
       "    .dataframe tbody tr th {\n",
       "        vertical-align: top;\n",
       "    }\n",
       "\n",
       "    .dataframe thead th {\n",
       "        text-align: right;\n",
       "    }\n",
       "</style>\n",
       "<table border=\"1\" class=\"dataframe\">\n",
       "  <thead>\n",
       "    <tr style=\"text-align: right;\">\n",
       "      <th></th>\n",
       "      <th>City</th>\n",
       "      <th>Date</th>\n",
       "      <th>aggVODKA</th>\n",
       "      <th>aggRUM</th>\n",
       "      <th>aggBRANDIES</th>\n",
       "      <th>aggSCHNAPPS</th>\n",
       "      <th>aggWHISKIES</th>\n",
       "      <th>aggTEQUILA</th>\n",
       "      <th>aggSCOTCH</th>\n",
       "      <th>aggOTHER</th>\n",
       "      <th>...</th>\n",
       "      <th>winfield</th>\n",
       "      <th>winterset</th>\n",
       "      <th>winthrop</th>\n",
       "      <th>woodbine</th>\n",
       "      <th>woodward</th>\n",
       "      <th>zwingle</th>\n",
       "      <th>Dayofweek</th>\n",
       "      <th>Week</th>\n",
       "      <th>Month</th>\n",
       "      <th>Holiday</th>\n",
       "    </tr>\n",
       "  </thead>\n",
       "  <tbody>\n",
       "    <tr>\n",
       "      <th>0</th>\n",
       "      <td>ackley</td>\n",
       "      <td>2016-01-04</td>\n",
       "      <td>0.133333</td>\n",
       "      <td>0.066667</td>\n",
       "      <td>0.000000</td>\n",
       "      <td>0.000000</td>\n",
       "      <td>0.533333</td>\n",
       "      <td>0.000000</td>\n",
       "      <td>0.0</td>\n",
       "      <td>0.133333</td>\n",
       "      <td>...</td>\n",
       "      <td>0</td>\n",
       "      <td>0</td>\n",
       "      <td>0</td>\n",
       "      <td>0</td>\n",
       "      <td>0</td>\n",
       "      <td>0</td>\n",
       "      <td>0</td>\n",
       "      <td>1</td>\n",
       "      <td>1</td>\n",
       "      <td>False</td>\n",
       "    </tr>\n",
       "    <tr>\n",
       "      <th>1</th>\n",
       "      <td>ackley</td>\n",
       "      <td>2015-01-05</td>\n",
       "      <td>0.312500</td>\n",
       "      <td>0.250000</td>\n",
       "      <td>0.000000</td>\n",
       "      <td>0.062500</td>\n",
       "      <td>0.250000</td>\n",
       "      <td>0.000000</td>\n",
       "      <td>0.0</td>\n",
       "      <td>0.125000</td>\n",
       "      <td>...</td>\n",
       "      <td>0</td>\n",
       "      <td>0</td>\n",
       "      <td>0</td>\n",
       "      <td>0</td>\n",
       "      <td>0</td>\n",
       "      <td>0</td>\n",
       "      <td>0</td>\n",
       "      <td>2</td>\n",
       "      <td>1</td>\n",
       "      <td>False</td>\n",
       "    </tr>\n",
       "    <tr>\n",
       "      <th>2</th>\n",
       "      <td>ackley</td>\n",
       "      <td>2014-01-06</td>\n",
       "      <td>0.190476</td>\n",
       "      <td>0.047619</td>\n",
       "      <td>0.047619</td>\n",
       "      <td>0.047619</td>\n",
       "      <td>0.428571</td>\n",
       "      <td>0.047619</td>\n",
       "      <td>0.0</td>\n",
       "      <td>0.142857</td>\n",
       "      <td>...</td>\n",
       "      <td>0</td>\n",
       "      <td>0</td>\n",
       "      <td>0</td>\n",
       "      <td>0</td>\n",
       "      <td>0</td>\n",
       "      <td>0</td>\n",
       "      <td>0</td>\n",
       "      <td>2</td>\n",
       "      <td>1</td>\n",
       "      <td>False</td>\n",
       "    </tr>\n",
       "    <tr>\n",
       "      <th>3</th>\n",
       "      <td>ackley</td>\n",
       "      <td>2013-01-07</td>\n",
       "      <td>0.125000</td>\n",
       "      <td>0.000000</td>\n",
       "      <td>0.062500</td>\n",
       "      <td>0.000000</td>\n",
       "      <td>0.500000</td>\n",
       "      <td>0.000000</td>\n",
       "      <td>0.0</td>\n",
       "      <td>0.187500</td>\n",
       "      <td>...</td>\n",
       "      <td>0</td>\n",
       "      <td>0</td>\n",
       "      <td>0</td>\n",
       "      <td>0</td>\n",
       "      <td>0</td>\n",
       "      <td>0</td>\n",
       "      <td>0</td>\n",
       "      <td>2</td>\n",
       "      <td>1</td>\n",
       "      <td>False</td>\n",
       "    </tr>\n",
       "    <tr>\n",
       "      <th>4</th>\n",
       "      <td>ackley</td>\n",
       "      <td>2013-01-08</td>\n",
       "      <td>0.250000</td>\n",
       "      <td>0.250000</td>\n",
       "      <td>0.000000</td>\n",
       "      <td>0.000000</td>\n",
       "      <td>0.250000</td>\n",
       "      <td>0.125000</td>\n",
       "      <td>0.0</td>\n",
       "      <td>0.000000</td>\n",
       "      <td>...</td>\n",
       "      <td>0</td>\n",
       "      <td>0</td>\n",
       "      <td>0</td>\n",
       "      <td>0</td>\n",
       "      <td>0</td>\n",
       "      <td>0</td>\n",
       "      <td>1</td>\n",
       "      <td>2</td>\n",
       "      <td>1</td>\n",
       "      <td>False</td>\n",
       "    </tr>\n",
       "  </tbody>\n",
       "</table>\n",
       "<p>5 rows × 445 columns</p>\n",
       "</div>"
      ],
      "text/plain": [
       "     City       Date  aggVODKA    aggRUM  aggBRANDIES  aggSCHNAPPS  \\\n",
       "0  ackley 2016-01-04  0.133333  0.066667     0.000000     0.000000   \n",
       "1  ackley 2015-01-05  0.312500  0.250000     0.000000     0.062500   \n",
       "2  ackley 2014-01-06  0.190476  0.047619     0.047619     0.047619   \n",
       "3  ackley 2013-01-07  0.125000  0.000000     0.062500     0.000000   \n",
       "4  ackley 2013-01-08  0.250000  0.250000     0.000000     0.000000   \n",
       "\n",
       "   aggWHISKIES  aggTEQUILA  aggSCOTCH  aggOTHER   ...     winfield  winterset  \\\n",
       "0     0.533333    0.000000        0.0  0.133333   ...            0          0   \n",
       "1     0.250000    0.000000        0.0  0.125000   ...            0          0   \n",
       "2     0.428571    0.047619        0.0  0.142857   ...            0          0   \n",
       "3     0.500000    0.000000        0.0  0.187500   ...            0          0   \n",
       "4     0.250000    0.125000        0.0  0.000000   ...            0          0   \n",
       "\n",
       "   winthrop  woodbine  woodward  zwingle  Dayofweek  Week  Month  Holiday  \n",
       "0         0         0         0        0          0     1      1    False  \n",
       "1         0         0         0        0          0     2      1    False  \n",
       "2         0         0         0        0          0     2      1    False  \n",
       "3         0         0         0        0          0     2      1    False  \n",
       "4         0         0         0        0          1     2      1    False  \n",
       "\n",
       "[5 rows x 445 columns]"
      ]
     },
     "execution_count": 38,
     "metadata": {
      "tags": []
     },
     "output_type": "execute_result"
    }
   ],
   "source": [
    "merged.head()"
   ]
  },
  {
   "cell_type": "code",
   "execution_count": 39,
   "metadata": {
    "colab": {
     "base_uri": "https://localhost:8080/",
     "height": 7582
    },
    "colab_type": "code",
    "id": "mL6ym71aiepX",
    "outputId": "6898928e-d181-48b0-aa0c-3ba732af20ea"
   },
   "outputs": [
    {
     "data": {
      "text/plain": [
       "['City',\n",
       " 'Date',\n",
       " 'aggVODKA',\n",
       " 'aggRUM',\n",
       " 'aggBRANDIES',\n",
       " 'aggSCHNAPPS',\n",
       " 'aggWHISKIES',\n",
       " 'aggTEQUILA',\n",
       " 'aggSCOTCH',\n",
       " 'aggOTHER',\n",
       " 'aggLIQUEURS',\n",
       " 'numRecords',\n",
       " 'Volume Sold (Liters)',\n",
       " 'Bottles Sold',\n",
       " 'Sale (Dollars)',\n",
       " 'Population',\n",
       " 'HousingUnits',\n",
       " 'AreaSQMT',\n",
       " 'DensitySQMP',\n",
       " 'DensitySQMH',\n",
       " 'Volume Per Capita',\n",
       " 'Bottles Per Capita',\n",
       " 'Sales Per Capita',\n",
       " 'ackley',\n",
       " 'adair',\n",
       " 'adel',\n",
       " 'afton',\n",
       " 'akron',\n",
       " 'albert city',\n",
       " 'albia',\n",
       " 'albion',\n",
       " 'alburnett',\n",
       " 'alden',\n",
       " 'algona',\n",
       " 'allison',\n",
       " 'alta',\n",
       " 'alta vista',\n",
       " 'alton',\n",
       " 'altoona',\n",
       " 'alvord',\n",
       " 'amana',\n",
       " 'ames',\n",
       " 'anamosa',\n",
       " 'anita',\n",
       " 'ankeny',\n",
       " 'anthon',\n",
       " 'arlington',\n",
       " 'armstrong',\n",
       " 'arnolds park',\n",
       " 'atkins',\n",
       " 'atlantic',\n",
       " 'audubon',\n",
       " 'aurelia',\n",
       " 'avoca',\n",
       " 'baldwin',\n",
       " 'bancroft',\n",
       " 'baxter',\n",
       " 'bedford',\n",
       " 'belle plaine',\n",
       " 'bellevue',\n",
       " 'belmond',\n",
       " 'bettendorf',\n",
       " 'bevington',\n",
       " 'blairstown',\n",
       " 'bloomfield',\n",
       " 'blue grass',\n",
       " 'bondurant',\n",
       " 'boone',\n",
       " 'britt',\n",
       " 'brooklyn',\n",
       " 'buffalo',\n",
       " 'buffalo center',\n",
       " 'burlington',\n",
       " 'bussey',\n",
       " 'camanche',\n",
       " 'cambridge',\n",
       " 'carlisle',\n",
       " 'carroll',\n",
       " 'carter lake',\n",
       " 'cascade',\n",
       " 'casey',\n",
       " 'cedar falls',\n",
       " 'cedar rapids',\n",
       " 'center point',\n",
       " 'centerville',\n",
       " 'central city',\n",
       " 'chariton',\n",
       " 'charles city',\n",
       " 'cherokee',\n",
       " 'chester',\n",
       " 'clarinda',\n",
       " 'clarion',\n",
       " 'clarksville',\n",
       " 'clear lake',\n",
       " 'clermont',\n",
       " 'clinton',\n",
       " 'clive',\n",
       " 'colesburg',\n",
       " 'colfax',\n",
       " 'colo',\n",
       " 'columbus junction',\n",
       " 'conrad',\n",
       " 'coon rapids',\n",
       " 'coralville',\n",
       " 'corning',\n",
       " 'correctionville',\n",
       " 'corwith',\n",
       " 'corydon',\n",
       " 'council bluffs',\n",
       " 'crescent',\n",
       " 'cresco',\n",
       " 'creston',\n",
       " 'cumming',\n",
       " 'dakota city',\n",
       " 'dallas center',\n",
       " 'danville',\n",
       " 'davenport',\n",
       " 'dayton',\n",
       " 'de soto',\n",
       " 'de witt',\n",
       " 'decorah',\n",
       " 'delaware',\n",
       " 'delhi',\n",
       " 'delmar',\n",
       " 'denison',\n",
       " 'denver',\n",
       " 'des moines',\n",
       " 'dexter',\n",
       " 'donnellson',\n",
       " 'doon',\n",
       " 'dows',\n",
       " 'dubuque',\n",
       " 'dumont',\n",
       " 'dunlap',\n",
       " 'durant',\n",
       " 'dyersville',\n",
       " 'dysart',\n",
       " 'eagle grove',\n",
       " 'earlham',\n",
       " 'earling',\n",
       " 'early',\n",
       " 'eddyville',\n",
       " 'edgewood',\n",
       " 'eldon',\n",
       " 'eldora',\n",
       " 'eldridge',\n",
       " 'elkader',\n",
       " 'ellsworth',\n",
       " 'elma',\n",
       " 'ely',\n",
       " 'emmetsburg',\n",
       " 'estherville',\n",
       " 'evansdale',\n",
       " 'everly',\n",
       " 'exira',\n",
       " 'fairbank',\n",
       " 'fairfax',\n",
       " 'fairfield',\n",
       " 'farley',\n",
       " 'farmington',\n",
       " 'fayette',\n",
       " 'floyd',\n",
       " 'fonda',\n",
       " 'fontanelle',\n",
       " 'forest city',\n",
       " 'fort atkinson',\n",
       " 'fort dodge',\n",
       " 'fort madison',\n",
       " 'fredericksburg',\n",
       " 'garnavillo',\n",
       " 'garner',\n",
       " 'garwin',\n",
       " 'george',\n",
       " 'gilbertville',\n",
       " 'gilmore city',\n",
       " 'gladbrook',\n",
       " 'glenwood',\n",
       " 'glidden',\n",
       " 'goldfield',\n",
       " 'gowrie',\n",
       " 'graettinger',\n",
       " 'grand junction',\n",
       " 'grand mound',\n",
       " 'granger',\n",
       " 'greene',\n",
       " 'greenfield',\n",
       " 'grimes',\n",
       " 'grinnell',\n",
       " 'griswold',\n",
       " 'grundy center',\n",
       " 'guthrie center',\n",
       " 'guttenberg',\n",
       " 'hamburg',\n",
       " 'hampton',\n",
       " 'harlan',\n",
       " 'harpers ferry',\n",
       " 'hartley',\n",
       " 'hawarden',\n",
       " 'hazleton',\n",
       " 'hiawatha',\n",
       " 'hinton',\n",
       " 'holstein',\n",
       " 'holy cross',\n",
       " 'hospers',\n",
       " 'hubbard',\n",
       " 'hudson',\n",
       " 'humboldt',\n",
       " 'humeston',\n",
       " 'huxley',\n",
       " 'ida grove',\n",
       " 'independence',\n",
       " 'indianola',\n",
       " 'inwood',\n",
       " 'iowa city',\n",
       " 'iowa falls',\n",
       " 'ireton',\n",
       " 'jefferson',\n",
       " 'jesup',\n",
       " 'jewell junction',\n",
       " 'johnston',\n",
       " 'kalona',\n",
       " 'kanawha',\n",
       " 'kellogg',\n",
       " 'keokuk',\n",
       " 'keosauqua',\n",
       " 'keota',\n",
       " 'kingsley',\n",
       " 'knoxville',\n",
       " 'la porte city',\n",
       " 'lake city',\n",
       " 'lake mills',\n",
       " 'lake park',\n",
       " 'lake view',\n",
       " 'lamoni',\n",
       " 'lamont',\n",
       " 'lansing',\n",
       " 'larchwood',\n",
       " 'latimer',\n",
       " 'laurens',\n",
       " 'lawler',\n",
       " 'le claire',\n",
       " 'le grand',\n",
       " 'le mars',\n",
       " 'lenox',\n",
       " 'leon',\n",
       " 'lisbon',\n",
       " 'logan',\n",
       " 'lohrville',\n",
       " 'lost nation',\n",
       " 'lovilia',\n",
       " 'madrid',\n",
       " 'malvern',\n",
       " 'manchester',\n",
       " 'manly',\n",
       " 'manning',\n",
       " 'manson',\n",
       " 'mapleton',\n",
       " 'maquoketa',\n",
       " 'marcus',\n",
       " 'marengo',\n",
       " 'marion',\n",
       " 'marquette',\n",
       " 'marshalltown',\n",
       " 'martensdale',\n",
       " 'mason city',\n",
       " 'maxwell',\n",
       " 'mcgregor',\n",
       " 'mechanicsville',\n",
       " 'mediapolis',\n",
       " 'melbourne',\n",
       " 'melcher-dallas',\n",
       " 'merrill',\n",
       " 'milford',\n",
       " 'minden',\n",
       " 'missouri valley',\n",
       " 'mitchellville',\n",
       " 'monona',\n",
       " 'monroe',\n",
       " 'montezuma',\n",
       " 'monticello',\n",
       " 'montrose',\n",
       " 'moravia',\n",
       " 'mount ayr',\n",
       " 'mount pleasant',\n",
       " 'mount vernon',\n",
       " 'murray',\n",
       " 'muscatine',\n",
       " 'nashua',\n",
       " 'neola',\n",
       " 'nevada',\n",
       " 'new hampton',\n",
       " 'new hartford',\n",
       " 'new london',\n",
       " 'new sharon',\n",
       " 'new virginia',\n",
       " 'newton',\n",
       " 'nora springs',\n",
       " 'north english',\n",
       " 'north liberty',\n",
       " 'northwood',\n",
       " 'norwalk',\n",
       " 'norway',\n",
       " 'oakland',\n",
       " 'oelwein',\n",
       " 'ogden',\n",
       " 'okoboji',\n",
       " 'onawa',\n",
       " 'orange city',\n",
       " 'osage',\n",
       " 'osceola',\n",
       " 'oskaloosa',\n",
       " 'ossian',\n",
       " 'otho',\n",
       " 'ottumwa',\n",
       " 'oxford',\n",
       " 'pacific junction',\n",
       " 'palo',\n",
       " 'panora',\n",
       " 'parkersburg',\n",
       " 'paullina',\n",
       " 'pella',\n",
       " 'peosta',\n",
       " 'perry',\n",
       " 'pleasant hill',\n",
       " 'pleasantville',\n",
       " 'pocahontas',\n",
       " 'polk city',\n",
       " 'pomeroy',\n",
       " 'postville',\n",
       " 'prairie city',\n",
       " 'preston',\n",
       " 'primghar',\n",
       " 'princeton',\n",
       " 'raymond',\n",
       " 'red oak',\n",
       " 'redfield',\n",
       " 'reinbeck',\n",
       " 'remsen',\n",
       " 'riceville',\n",
       " 'riverside',\n",
       " 'robins',\n",
       " 'rock rapids',\n",
       " 'rock valley',\n",
       " 'rockford',\n",
       " 'rockwell',\n",
       " 'rockwell city',\n",
       " 'roland',\n",
       " 'rolfe',\n",
       " 'runnells',\n",
       " 'ruthven',\n",
       " 'sac city',\n",
       " 'sanborn',\n",
       " 'schaller',\n",
       " 'schleswig',\n",
       " 'scranton',\n",
       " 'sergeant bluff',\n",
       " 'seymour',\n",
       " 'sheffield',\n",
       " 'shelby',\n",
       " 'sheldon',\n",
       " 'shellsburg',\n",
       " 'shenandoah',\n",
       " 'shueyville',\n",
       " 'sibley',\n",
       " 'sigourney',\n",
       " 'sioux center',\n",
       " 'sioux city',\n",
       " 'sioux rapids',\n",
       " 'slater',\n",
       " 'sloan',\n",
       " 'solon',\n",
       " 'spencer',\n",
       " 'spirit lake',\n",
       " 'springville',\n",
       " 'st. ansgar',\n",
       " 'st. charles',\n",
       " 'st. lucas',\n",
       " 'stanton',\n",
       " 'stanwood',\n",
       " 'state center',\n",
       " 'storm lake',\n",
       " 'story city',\n",
       " 'stratford',\n",
       " 'strawberry point',\n",
       " 'stuart',\n",
       " 'sully',\n",
       " 'sumner',\n",
       " 'sutherland',\n",
       " 'swea city',\n",
       " 'swisher',\n",
       " 'tabor',\n",
       " 'tama',\n",
       " 'templeton',\n",
       " 'tiffin',\n",
       " 'tipton',\n",
       " 'toledo',\n",
       " 'traer',\n",
       " 'treynor',\n",
       " 'tripoli',\n",
       " 'truro',\n",
       " 'urbana',\n",
       " 'urbandale',\n",
       " 'van horne',\n",
       " 'van meter',\n",
       " 'victor',\n",
       " 'villisca',\n",
       " 'vinton',\n",
       " 'walford',\n",
       " 'walker',\n",
       " 'wall lake',\n",
       " 'walnut',\n",
       " 'wapello',\n",
       " 'washburn',\n",
       " 'washington',\n",
       " 'washta',\n",
       " 'waterloo',\n",
       " 'waukee',\n",
       " 'waukon',\n",
       " 'waverly',\n",
       " 'webster city',\n",
       " 'wellman',\n",
       " 'wellsburg',\n",
       " 'wesley',\n",
       " 'west bend',\n",
       " 'west branch',\n",
       " 'west burlington',\n",
       " 'west des moines',\n",
       " 'west liberty',\n",
       " 'west point',\n",
       " 'west union',\n",
       " 'wheatland',\n",
       " 'whittemore',\n",
       " 'williamsburg',\n",
       " 'wilton',\n",
       " 'windsor heights',\n",
       " 'winfield',\n",
       " 'winterset',\n",
       " 'winthrop',\n",
       " 'woodbine',\n",
       " 'woodward',\n",
       " 'zwingle',\n",
       " 'Dayofweek',\n",
       " 'Week',\n",
       " 'Month',\n",
       " 'Holiday']"
      ]
     },
     "execution_count": 39,
     "metadata": {
      "tags": []
     },
     "output_type": "execute_result"
    }
   ],
   "source": [
    "list(merged)"
   ]
  },
  {
   "cell_type": "code",
   "execution_count": null,
   "metadata": {
    "colab": {},
    "colab_type": "code",
    "id": "jaCoFXCA7ZCb"
   },
   "outputs": [],
   "source": [
    "merged.to_csv(\"/content/gdrive/My Drive/College/DATA 401/Iowa-Liquor-Sales/GrossSalesAggregated_Final.csv\", index=False)"
   ]
  },
  {
   "cell_type": "code",
   "execution_count": null,
   "metadata": {
    "colab": {},
    "colab_type": "code",
    "id": "2PpbRwL39zo8"
   },
   "outputs": [],
   "source": []
  }
 ],
 "metadata": {
  "colab": {
   "collapsed_sections": [],
   "name": "FeatureEngineering.ipynb",
   "provenance": [],
   "version": "0.3.2"
  },
  "kernelspec": {
   "display_name": "Python 3",
   "language": "python",
   "name": "python3"
  },
  "language_info": {
   "codemirror_mode": {
    "name": "ipython",
    "version": 3
   },
   "file_extension": ".py",
   "mimetype": "text/x-python",
   "name": "python",
   "nbconvert_exporter": "python",
   "pygments_lexer": "ipython3",
   "version": "3.6.5"
  }
 },
 "nbformat": 4,
 "nbformat_minor": 2
}
