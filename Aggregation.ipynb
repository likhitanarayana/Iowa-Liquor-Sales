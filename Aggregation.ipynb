{
 "cells": [
  {
   "cell_type": "code",
   "execution_count": 1,
   "metadata": {},
   "outputs": [],
   "source": [
    "import pandas as pd\n",
    "import numpy as np\n",
    "import os"
   ]
  },
  {
   "cell_type": "code",
   "execution_count": 2,
   "metadata": {},
   "outputs": [],
   "source": [
    "dataFile = \"/home/jovyan/data400_share/dataset.csv\"\n",
    "columns = pd.read_csv(dataFile, nrows = 1).columns\n",
    "aggFolder = \"Batches/\""
   ]
  },
  {
   "cell_type": "code",
   "execution_count": 3,
   "metadata": {},
   "outputs": [
    {
     "data": {
      "text/plain": [
       "Index(['Invoice/Item Number', 'Date', 'Store Number', 'Store Name', 'Address',\n",
       "       'City', 'Zip Code', 'Store Location', 'County Number', 'County',\n",
       "       'Category', 'Category Name', 'Vendor Number', 'Vendor Name',\n",
       "       'Item Number', 'Item Description', 'Pack', 'Bottle Volume (ml)',\n",
       "       'State Bottle Cost', 'State Bottle Retail', 'Bottles Sold',\n",
       "       'Sale (Dollars)', 'Volume Sold (Liters)', 'Volume Sold (Gallons)'],\n",
       "      dtype='object')"
      ]
     },
     "execution_count": 3,
     "metadata": {},
     "output_type": "execute_result"
    }
   ],
   "source": [
    "columns"
   ]
  },
  {
   "cell_type": "code",
   "execution_count": 4,
   "metadata": {},
   "outputs": [],
   "source": [
    "def batchAgg(batch, nrows):\n",
    "    # NOTE: as a way to check that we are chunking correctly, we look at invoice/item number of\n",
    "    # the columns of the new dataset and the last row of the previous dataset. They should be the\n",
    "    # same, because the columns of the new dataset will be overwritten, so the first new row of \n",
    "    # the new dataset will be the row following the last row of the old dataset\n",
    "    if batch >= 1:\n",
    "        data = pd.read_csv(dataFile,\n",
    "                           nrows = nrows, \n",
    "                           skiprows = nrows * batch)\n",
    "        print(\"first row:\", data.columns.values[0])\n",
    "        data.columns = columns\n",
    "    else:\n",
    "        data = pd.read_csv(dataFile,\n",
    "                           nrows = nrows)\n",
    "    agg = data.groupby(['City', 'Date', ])[\n",
    "    ['Volume Sold (Liters)', 'Bottles Sold', 'Sale (Dollars)']].sum().reset_index()\n",
    "    agg.to_csv(aggFolder + \"agg%d.csv\" % batch, index = False)\n",
    "    val = len(data.index) == nrows\n",
    "    print(\"last row:\", data.iloc[len(data.index) - 1].values[0])\n",
    "    return val"
   ]
  },
  {
   "cell_type": "code",
   "execution_count": 5,
   "metadata": {},
   "outputs": [
    {
     "name": "stderr",
     "output_type": "stream",
     "text": [
      "/opt/conda/lib/python3.6/site-packages/IPython/core/interactiveshell.py:2903: DtypeWarning: Columns (6,14) have mixed types. Specify dtype option on import or set low_memory=False.\n",
      "  if self.run_code(code, result):\n"
     ]
    },
    {
     "name": "stdout",
     "output_type": "stream",
     "text": [
      "last row: INV-03698900072\n"
     ]
    },
    {
     "name": "stderr",
     "output_type": "stream",
     "text": [
      "/opt/conda/lib/python3.6/site-packages/IPython/core/interactiveshell.py:2903: DtypeWarning: Columns (14) have mixed types. Specify dtype option on import or set low_memory=False.\n",
      "  if self.run_code(code, result):\n"
     ]
    },
    {
     "name": "stdout",
     "output_type": "stream",
     "text": [
      "first row: INV-03698900072\n",
      "last row: INV-06674400142\n"
     ]
    },
    {
     "name": "stderr",
     "output_type": "stream",
     "text": [
      "/opt/conda/lib/python3.6/site-packages/IPython/core/interactiveshell.py:2903: DtypeWarning: Columns (6) have mixed types. Specify dtype option on import or set low_memory=False.\n",
      "  if self.run_code(code, result):\n"
     ]
    },
    {
     "name": "stdout",
     "output_type": "stream",
     "text": [
      "first row: INV-06674400142\n",
      "last row: INV-09367600026\n",
      "first row: INV-09367600026\n",
      "last row: INV-12356700060\n",
      "first row: INV-12356700060\n",
      "last row: S18978200110\n",
      "first row: S18978200110\n",
      "last row: S27349300170\n",
      "first row: S27349300170\n",
      "last row: S05165900042\n",
      "first row: S05165900042\n",
      "last row: S07065800033\n",
      "first row: S07065800033\n",
      "last row: S24466100024\n",
      "first row: S24466100024\n",
      "last row: S17738300012\n",
      "first row: S17738300012\n",
      "last row: S10166000015\n",
      "first row: S10166000015\n",
      "last row: S12846400037\n",
      "first row: S12846400037\n",
      "last row: S30473600014\n",
      "first row: S30473600014\n",
      "last row: S33318400041\n",
      "first row: S33318400041\n",
      "last row: INV-14204700091\n"
     ]
    }
   ],
   "source": [
    "# Load data in 1,000,000 rows at a time to aggregate\n",
    "batch = 0\n",
    "while batchAgg(batch, 1000000):\n",
    "    batch += 1"
   ]
  },
  {
   "cell_type": "code",
   "execution_count": 6,
   "metadata": {},
   "outputs": [],
   "source": [
    "aggData = [pd.read_csv(aggFolder + filename) for filename in os.listdir(aggFolder)\n",
    "          if 'agg' in filename]\n",
    "aggConcat = pd.concat(aggData)\n",
    "final = aggConcat.groupby(['City', 'Date', ])[\n",
    "    ['Volume Sold (Liters)', 'Bottles Sold', 'Sale (Dollars)']].sum().reset_index()"
   ]
  },
  {
   "cell_type": "code",
   "execution_count": 7,
   "metadata": {},
   "outputs": [],
   "source": [
    "final.to_csv(\"GrossSales.csv\", index=False)"
   ]
  },
  {
   "cell_type": "code",
   "execution_count": 8,
   "metadata": {},
   "outputs": [
    {
     "data": {
      "text/html": [
       "<div>\n",
       "<table border=\"1\" class=\"dataframe\">\n",
       "  <thead>\n",
       "    <tr style=\"text-align: right;\">\n",
       "      <th></th>\n",
       "      <th>City</th>\n",
       "      <th>Date</th>\n",
       "      <th>Volume Sold (Liters)</th>\n",
       "      <th>Bottles Sold</th>\n",
       "      <th>Sale (Dollars)</th>\n",
       "    </tr>\n",
       "  </thead>\n",
       "  <tbody>\n",
       "    <tr>\n",
       "      <th>0</th>\n",
       "      <td>ACKLEY</td>\n",
       "      <td>01/04/2016</td>\n",
       "      <td>114.00</td>\n",
       "      <td>118</td>\n",
       "      <td>1858.58</td>\n",
       "    </tr>\n",
       "    <tr>\n",
       "      <th>1</th>\n",
       "      <td>ACKLEY</td>\n",
       "      <td>01/05/2015</td>\n",
       "      <td>163.99</td>\n",
       "      <td>158</td>\n",
       "      <td>1953.04</td>\n",
       "    </tr>\n",
       "    <tr>\n",
       "      <th>2</th>\n",
       "      <td>ACKLEY</td>\n",
       "      <td>01/06/2014</td>\n",
       "      <td>146.50</td>\n",
       "      <td>126</td>\n",
       "      <td>1260.57</td>\n",
       "    </tr>\n",
       "    <tr>\n",
       "      <th>3</th>\n",
       "      <td>ACKLEY</td>\n",
       "      <td>01/07/2013</td>\n",
       "      <td>98.75</td>\n",
       "      <td>96</td>\n",
       "      <td>955.93</td>\n",
       "    </tr>\n",
       "    <tr>\n",
       "      <th>4</th>\n",
       "      <td>ACKLEY</td>\n",
       "      <td>01/08/2013</td>\n",
       "      <td>61.50</td>\n",
       "      <td>72</td>\n",
       "      <td>686.59</td>\n",
       "    </tr>\n",
       "  </tbody>\n",
       "</table>\n",
       "</div>"
      ],
      "text/plain": [
       "     City        Date  Volume Sold (Liters)  Bottles Sold  Sale (Dollars)\n",
       "0  ACKLEY  01/04/2016                114.00           118         1858.58\n",
       "1  ACKLEY  01/05/2015                163.99           158         1953.04\n",
       "2  ACKLEY  01/06/2014                146.50           126         1260.57\n",
       "3  ACKLEY  01/07/2013                 98.75            96          955.93\n",
       "4  ACKLEY  01/08/2013                 61.50            72          686.59"
      ]
     },
     "execution_count": 8,
     "metadata": {},
     "output_type": "execute_result"
    }
   ],
   "source": [
    "pd.read_csv(\"GrossSales.csv\").head()"
   ]
  },
  {
   "cell_type": "code",
   "execution_count": null,
   "metadata": {},
   "outputs": [],
   "source": []
  }
 ],
 "metadata": {
  "kernelspec": {
   "display_name": "Python 3",
   "language": "python",
   "name": "python3"
  },
  "language_info": {
   "codemirror_mode": {
    "name": "ipython",
    "version": 3
   },
   "file_extension": ".py",
   "mimetype": "text/x-python",
   "name": "python",
   "nbconvert_exporter": "python",
   "pygments_lexer": "ipython3",
   "version": "3.6.5"
  }
 },
 "nbformat": 4,
 "nbformat_minor": 2
}
